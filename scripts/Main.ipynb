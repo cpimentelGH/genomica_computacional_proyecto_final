{
 "cells": [
  {
   "cell_type": "code",
   "execution_count": null,
   "metadata": {},
   "outputs": [],
   "source": []
  },
  {
   "cell_type": "markdown",
   "metadata": {},
   "source": [
    "# Creacion de ImageSet ruidoso"
   ]
  },
  {
   "cell_type": "code",
   "execution_count": 9,
   "metadata": {},
   "outputs": [],
   "source": [
    "from NoiseFuncs import noise_data_gen"
   ]
  },
  {
   "cell_type": "code",
   "execution_count": 15,
   "metadata": {},
   "outputs": [],
   "source": [
    "# Inserción de ruido en el conjunto de prueba\n",
    "\n",
    "# noise_data_gen('../data/filtered/noised_set/test/alpha', '../data/filtered/noised_set/test/alpha',\n",
    "#                 50, 0, 'alpha_noise')\n",
    "\n",
    "# noise_data_gen('../data/filtered/noised_set/test/beta', '../data/filtered/noised_set/test/beta',\n",
    "#                 50, 0, 'beta_noise')\n",
    "\n",
    "# noise_data_gen('../data/filtered/noised_set/test/delta', '../data/filtered/noised_set/test/delta',\n",
    "#                82, 0, 'delta_noise')\n",
    "\n",
    "# noise_data_gen('../data/filtered/noised_set/test/gamma', '../data/filtered/noised_set/test/gamma',\n",
    "#                50, 0, 'gamma_noise')"
   ]
  },
  {
   "cell_type": "code",
   "execution_count": 20,
   "metadata": {},
   "outputs": [],
   "source": [
    "# Inserción de ruido en el conjunto de entrenamiento\n",
    "\n",
    "# noise_data_gen('../data/filtered/noised_set/train/alpha', '../data/filtered/noised_set/train/alpha',\n",
    "#                100, 0, 'alpha_noise')\n",
    "\n",
    "# noise_data_gen('../data/filtered/noised_set/train/beta', '../data/filtered/noised_set/train/beta',\n",
    "#                100, 0, 'beta_noise')\n",
    "\n",
    "# noise_data_gen('../data/filtered/noised_set/train/delta', '../data/filtered/noised_set/train/delta',\n",
    "#               176, 0, 'delta_noise')\n",
    "\n",
    "# noise_data_gen('../data/filtered/noised_set/train/gamma', '../data/filtered/noised_set/train/gamma',\n",
    "#               100, 0, 'gamma_noise')"
   ]
  },
  {
   "cell_type": "markdown",
   "metadata": {},
   "source": [
    "# Predicción de imágenes a partir del modelo guardado"
   ]
  },
  {
   "cell_type": "code",
   "execution_count": 21,
   "metadata": {},
   "outputs": [],
   "source": [
    "import cv2, pickle"
   ]
  },
  {
   "cell_type": "code",
   "execution_count": 22,
   "metadata": {},
   "outputs": [
    {
     "name": "stdout",
     "output_type": "stream",
     "text": [
      "(200, 200)\n"
     ]
    }
   ],
   "source": [
    "im = cv2.imread('../data/filtered/to_predict/HCoV-229E0.png', cv2.IMREAD_GRAYSCALE)\n",
    "print(im.shape)"
   ]
  },
  {
   "cell_type": "code",
   "execution_count": null,
   "metadata": {},
   "outputs": [],
   "source": [
    "predictor = pickle.load(open('../archive/15_06_20/base_vanilla_1_model.sav', 'rb'))"
   ]
  },
  {
   "cell_type": "code",
   "execution_count": null,
   "metadata": {},
   "outputs": [],
   "source": [
    "print(predictor.predict(im.reshape(1,200,200,1)))"
   ]
  }
 ],
 "metadata": {
  "kernelspec": {
   "display_name": "Python 3",
   "language": "python",
   "name": "python3"
  },
  "language_info": {
   "codemirror_mode": {
    "name": "ipython",
    "version": 3
   },
   "file_extension": ".py",
   "mimetype": "text/x-python",
   "name": "python",
   "nbconvert_exporter": "python",
   "pygments_lexer": "ipython3",
   "version": "3.7.6"
  }
 },
 "nbformat": 4,
 "nbformat_minor": 4
}
