{
 "cells": [
  {
   "cell_type": "markdown",
   "metadata": {},
   "source": [
    "# Creación de ImageSet "
   ]
  },
  {
   "cell_type": "code",
   "execution_count": null,
   "metadata": {},
   "outputs": [],
   "source": [
    "from CGRfuncs import data_set_gen"
   ]
  },
  {
   "cell_type": "markdown",
   "metadata": {},
   "source": [
    "Generación de conjunto de validación. Se almacena en `data/filtered/vanilla_set/test`"
   ]
  },
  {
   "cell_type": "code",
   "execution_count": null,
   "metadata": {},
   "outputs": [],
   "source": [
    "data_set_gen('../data/raw_data/test/alpha_test.fasta',\n",
    "             '../data/filtered/vanilla_set/test/alpha', 'alpha')\n",
    "\n",
    "data_set_gen('../data/raw_data/test/beta_test.fasta',\n",
    "             '../data/filtered/vanilla_set/test/beta', 'beta')\n",
    "\n",
    "data_set_gen('../data/raw_data/test/delta_test.fasta',\n",
    "             '../data/filtered/vanilla_set/test/delta', 'delta')\n",
    "\n",
    "data_set_gen('../data/raw_data/test/gamma_test.fasta',\n",
    "             '../data/filtered/vanilla_set/test/gamma', 'gamma')"
   ]
  },
  {
   "cell_type": "markdown",
   "metadata": {},
   "source": [
    "Generación de conjunto de validación. Se almacena en `data/filtered/vanilla_set/train`"
   ]
  },
  {
   "cell_type": "code",
   "execution_count": null,
   "metadata": {},
   "outputs": [],
   "source": [
    "data_set_gen('../data/raw_data/train/alpha_train.fasta',\n",
    "             '../data/filtered/vanilla_set/train/alpha', 'alpha')\n",
    "\n",
    "data_set_gen('../data/raw_data/train/beta_train.fasta',\n",
    "             '../data/filtered/vanilla_set/train/beta', 'beta')\n",
    "\n",
    "data_set_gen('../data/raw_data/train/delta_train.fasta',\n",
    "             '../data/filtered/vanilla_set/train/delta', 'delta')\n",
    "\n",
    "data_set_gen('../data/raw_data/train/gamma_train.fasta',\n",
    "             '../data/filtered/vanilla_set/train/gamma', 'gamma')"
   ]
  },
  {
   "cell_type": "markdown",
   "metadata": {},
   "source": [
    "# Creacion de ImageSet ruidoso en caso de desearlo"
   ]
  },
  {
   "cell_type": "markdown",
   "metadata": {},
   "source": [
    "Agrega ruido a los conjuntos de prueba"
   ]
  },
  {
   "cell_type": "code",
   "execution_count": null,
   "metadata": {},
   "outputs": [],
   "source": [
    "noise_data_gen('../data/filtered/noised_set/test/alpha', '../data/filtered/noised_set/test/alpha',\n",
    "                50, 0, 'alpha_noise')\n",
    "\n",
    "noise_data_gen('../data/filtered/noised_set/test/beta', '../data/filtered/noised_set/test/beta',\n",
    "                50, 0, 'beta_noise')\n",
    "\n",
    "noise_data_gen('../data/filtered/noised_set/test/delta', '../data/filtered/noised_set/test/delta',\n",
    "               82, 0, 'delta_noise')\n",
    "\n",
    "noise_data_gen('../data/filtered/noised_set/test/gamma', '../data/filtered/noised_set/test/gamma',\n",
    "               50, 0, 'gamma_noise')"
   ]
  },
  {
   "cell_type": "markdown",
   "metadata": {},
   "source": [
    "Agrega ruido a los conjuntos de entrenamiento"
   ]
  },
  {
   "cell_type": "code",
   "execution_count": null,
   "metadata": {},
   "outputs": [],
   "source": [
    "noise_data_gen('../data/filtered/noised_set/train/alpha', '../data/filtered/noised_set/train/alpha',\n",
    "               100, 0, 'alpha_noise')\n",
    "\n",
    "noise_data_gen('../data/filtered/noised_set/train/beta', '../data/filtered/noised_set/train/beta',\n",
    "               100, 0, 'beta_noise')\n",
    "\n",
    "noise_data_gen('../data/filtered/noised_set/train/delta', '../data/filtered/noised_set/train/delta',\n",
    "              176, 0, 'delta_noise')\n",
    "\n",
    "noise_data_gen('../data/filtered/noised_set/train/gamma', '../data/filtered/noised_set/train/gamma',\n",
    "              100, 0, 'gamma_noise')"
   ]
  },
  {
   "cell_type": "markdown",
   "metadata": {},
   "source": [
    "# Creación de Modelo"
   ]
  },
  {
   "cell_type": "code",
   "execution_count": null,
   "metadata": {},
   "outputs": [],
   "source": [
    "from Model import BaseVGG"
   ]
  },
  {
   "cell_type": "markdown",
   "metadata": {},
   "source": [
    "Por default se usará el conjunto sin ruido"
   ]
  },
  {
   "cell_type": "code",
   "execution_count": null,
   "metadata": {},
   "outputs": [],
   "source": [
    "m = BaseVGG(200,200)\n",
    "m.load_data('../data/filtered/vanilla_set/train', \n",
    "            '../data/filtered/vanilla_set/test')\n",
    "m.train(200, 100, '../archive/nombre-del-test', 'numeroTest')"
   ]
  },
  {
   "cell_type": "markdown",
   "metadata": {},
   "source": [
    "# Predicción de imágenes a partir del modelo guardado"
   ]
  },
  {
   "cell_type": "code",
   "execution_count": null,
   "metadata": {},
   "outputs": [],
   "source": [
    "import cv2, pickle"
   ]
  },
  {
   "cell_type": "markdown",
   "metadata": {},
   "source": [
    "Generación de imágenes para predección"
   ]
  },
  {
   "cell_type": "code",
   "execution_count": null,
   "metadata": {},
   "outputs": [],
   "source": [
    "data_set_gen('../data/raw_data/bluga_whale_coronavirus_SW1_gammacoronavirus.fasta', \n",
    "             '../data/filtered/to_predict', 'beluga_gamma')\n",
    "data_set_gen('../data/raw_data/HCoV-229E_alphacoronavirus.fasta', \n",
    "             '../data/filtered/to_predict', 'hcov_alpha')\n",
    "data_set_gen('../data/raw_data/porcine_diarrhea_CoV_deltacoronavirus.fasta', \n",
    "             '../data/filtered/to_predict', 'procine_delta')\n",
    "data_set_gen('../data/raw_data/SARS-CoV2_betacoronavirus.fasta', \n",
    "             '../data/filtered/to_predict', 'sarscov2_beta')"
   ]
  },
  {
   "cell_type": "code",
   "execution_count": null,
   "metadata": {},
   "outputs": [],
   "source": [
    "im = cv2.imread('../data/filtered/to_predict/nombre-de-imagen', cv2.IMREAD_GRAYSCALE)\n",
    "resized = cv2.resize(im, (200,200), interpolation=cv2.INTER_AREA)"
   ]
  },
  {
   "cell_type": "code",
   "execution_count": null,
   "metadata": {},
   "outputs": [],
   "source": [
    "# Carga el modelo completo \n",
    "predictor = pickle.load(open('../archive/directorio-test/nombre-test.sav', 'rb'))"
   ]
  },
  {
   "cell_type": "code",
   "execution_count": null,
   "metadata": {},
   "outputs": [],
   "source": [
    "print(predictor.predict(im.reshape(1,200,200,1)))"
   ]
  }
 ],
 "metadata": {
  "kernelspec": {
   "display_name": "Python 3",
   "language": "python",
   "name": "python3"
  },
  "language_info": {
   "codemirror_mode": {
    "name": "ipython",
    "version": 3
   },
   "file_extension": ".py",
   "mimetype": "text/x-python",
   "name": "python",
   "nbconvert_exporter": "python",
   "pygments_lexer": "ipython3",
   "version": "3.7.6"
  }
 },
 "nbformat": 4,
 "nbformat_minor": 4
}
