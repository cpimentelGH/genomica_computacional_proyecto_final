{
 "cells": [
  {
   "cell_type": "markdown",
   "metadata": {
    "colab_type": "text",
    "id": "p0yJ9gHA5Hhv"
   },
   "source": [
    "# SETUP para Google Collab\n"
   ]
  },
  {
   "cell_type": "code",
   "execution_count": null,
   "metadata": {
    "colab": {
     "base_uri": "https://localhost:8080/",
     "height": 124
    },
    "colab_type": "code",
    "executionInfo": {
     "elapsed": 30514,
     "status": "ok",
     "timestamp": 1591381424723,
     "user": {
      "displayName": "Héctor Eduardo Gómez Mora",
      "photoUrl": "",
      "userId": "13684640852500579133"
     },
     "user_tz": 300
    },
    "id": "ZmXznXwMt8Uy",
    "outputId": "e22156be-302b-43a9-e1db-e2eca56b5093"
   },
   "outputs": [],
   "source": [
    "from google.colab import drive\n",
    "drive.mount('/content/gdrive')"
   ]
  },
  {
   "cell_type": "code",
   "execution_count": null,
   "metadata": {
    "colab": {
     "base_uri": "https://localhost:8080/",
     "height": 34
    },
    "colab_type": "code",
    "executionInfo": {
     "elapsed": 331,
     "status": "ok",
     "timestamp": 1591381519142,
     "user": {
      "displayName": "Héctor Eduardo Gómez Mora",
      "photoUrl": "",
      "userId": "13684640852500579133"
     },
     "user_tz": 300
    },
    "id": "QFWD3RoYuQKJ",
    "outputId": "971a683e-6f7e-4cd0-db12-de2ebdaba2b7"
   },
   "outputs": [],
   "source": [
    "%cd gdrive/My Drive/genomica-2020-pf"
   ]
  },
  {
   "cell_type": "code",
   "execution_count": null,
   "metadata": {
    "colab": {
     "base_uri": "https://localhost:8080/",
     "height": 139
    },
    "colab_type": "code",
    "executionInfo": {
     "elapsed": 3841,
     "status": "ok",
     "timestamp": 1591381581389,
     "user": {
      "displayName": "Héctor Eduardo Gómez Mora",
      "photoUrl": "",
      "userId": "13684640852500579133"
     },
     "user_tz": 300
    },
    "id": "cPC2c5qYucwp",
    "outputId": "298c2a6c-fc68-4205-87d5-8f64a1ac1b57"
   },
   "outputs": [],
   "source": [
    "! git clone https://github.com/cpimentelGH/genomica_computacional_proyecto_final.git"
   ]
  },
  {
   "cell_type": "code",
   "execution_count": null,
   "metadata": {
    "colab": {
     "base_uri": "https://localhost:8080/",
     "height": 34
    },
    "colab_type": "code",
    "executionInfo": {
     "elapsed": 1194,
     "status": "ok",
     "timestamp": 1591381591410,
     "user": {
      "displayName": "Héctor Eduardo Gómez Mora",
      "photoUrl": "",
      "userId": "13684640852500579133"
     },
     "user_tz": 300
    },
    "id": "MIFTifZquz4s",
    "outputId": "3d908ab4-ab59-4262-cddc-82f3552eab6a"
   },
   "outputs": [],
   "source": [
    "! ls"
   ]
  },
  {
   "cell_type": "code",
   "execution_count": null,
   "metadata": {
    "colab": {
     "base_uri": "https://localhost:8080/",
     "height": 52
    },
    "colab_type": "code",
    "executionInfo": {
     "elapsed": 1490,
     "status": "ok",
     "timestamp": 1591381694470,
     "user": {
      "displayName": "Héctor Eduardo Gómez Mora",
      "photoUrl": "",
      "userId": "13684640852500579133"
     },
     "user_tz": 300
    },
    "id": "N2IeP8BevAA3",
    "outputId": "79866d82-b1d2-46e6-8cdd-536c802874a3"
   },
   "outputs": [],
   "source": [
    "# %cd genomica_computacional_proyecto_final/\n",
    "! git checkout CNN-model"
   ]
  },
  {
   "cell_type": "code",
   "execution_count": null,
   "metadata": {
    "colab": {
     "base_uri": "https://localhost:8080/",
     "height": 34
    },
    "colab_type": "code",
    "executionInfo": {
     "elapsed": 281,
     "status": "ok",
     "timestamp": 1591382211816,
     "user": {
      "displayName": "Héctor Eduardo Gómez Mora",
      "photoUrl": "",
      "userId": "13684640852500579133"
     },
     "user_tz": 300
    },
    "id": "O-MK4wbdxQV1",
    "outputId": "21e91c46-5120-49f2-91aa-5e092c95dc03"
   },
   "outputs": [],
   "source": [
    "%cd scripts/"
   ]
  },
  {
   "cell_type": "code",
   "execution_count": null,
   "metadata": {
    "colab": {},
    "colab_type": "code",
    "id": "8IzFEKE2vcbE"
   },
   "outputs": [],
   "source": [
    "from CGRfuncs import to_cgr\n",
    "from CGRfuncs2 import complexCGRGen"
   ]
  },
  {
   "cell_type": "code",
   "execution_count": null,
   "metadata": {
    "colab": {},
    "colab_type": "code",
    "id": "OxmUZsB5xxBE"
   },
   "outputs": [],
   "source": [
    "# ! mkdir ../data/filtered"
   ]
  },
  {
   "cell_type": "markdown",
   "metadata": {
    "colab_type": "text",
    "id": "F5ilcZVzyGUo"
   },
   "source": [
    "Creación del conjunto de entrenamiento"
   ]
  },
  {
   "cell_type": "code",
   "execution_count": null,
   "metadata": {
    "colab": {
     "base_uri": "https://localhost:8080/",
     "height": 34
    },
    "colab_type": "code",
    "executionInfo": {
     "elapsed": 54366,
     "status": "ok",
     "timestamp": 1591383470252,
     "user": {
      "displayName": "Héctor Eduardo Gómez Mora",
      "photoUrl": "",
      "userId": "13684640852500579133"
     },
     "user_tz": 300
    },
    "id": "RsZ5bz5GwS0N",
    "outputId": "3dc7b3c5-3bbe-4b6e-db5f-c418f387b48b"
   },
   "outputs": [],
   "source": [
    "# complexCGRGen('../data/raw_data/train/alpha/alpha.fasta', '../data/filtered/train/alpha', 'alpha')\n",
    "# complexCGRGen('../data/raw_data/train/beta/beta.fasta', '../data/filtered/train/beta', 'beta')\n",
    "# complexCGRGen('../data/raw_data/train/delta/delta.fasta', '../data/filtered/train/delta', 'delta')\n",
    "# complexCGRGen('../data/raw_data/train/gamma/gamma.fasta', '../data/filtered/train/gamma', 'gamma')"
   ]
  },
  {
   "cell_type": "markdown",
   "metadata": {
    "colab_type": "text",
    "id": "Z8YdoevY2paA"
   },
   "source": [
    "Creación del conjunto de prueba"
   ]
  },
  {
   "cell_type": "code",
   "execution_count": null,
   "metadata": {
    "colab": {
     "base_uri": "https://localhost:8080/",
     "height": 34
    },
    "colab_type": "code",
    "executionInfo": {
     "elapsed": 15643,
     "status": "ok",
     "timestamp": 1591384093784,
     "user": {
      "displayName": "Héctor Eduardo Gómez Mora",
      "photoUrl": "",
      "userId": "13684640852500579133"
     },
     "user_tz": 300
    },
    "id": "vgqznGgwxmtD",
    "outputId": "2202557b-d41a-44e0-8b98-c798a938651e"
   },
   "outputs": [],
   "source": [
    "# complexCGRGen('../data/raw_data/test/alpha.fasta', '../data/filtered/test/alpha', 'alpha')\n",
    "# complexCGRGen('../data/raw_data/test/beta.fasta', '../data/filtered/test/beta', 'beta')\n",
    "# complexCGRGen('../data/raw_data/test/delta.fasta', '../data/filtered/test/delta', 'delta')\n",
    "# complexCGRGen('../data/raw_data/test/gamma.fasta', '../data/filtered/test/gamma', 'gamma')"
   ]
  },
  {
   "cell_type": "markdown",
   "metadata": {
    "colab_type": "text",
    "id": "81CcbjqX4-HV"
   },
   "source": [
    "# Creación del Modelo"
   ]
  },
  {
   "cell_type": "code",
   "execution_count": null,
   "metadata": {
    "colab": {},
    "colab_type": "code",
    "id": "cFD2-vsT2W2U"
   },
   "outputs": [],
   "source": [
    "from keras.preprocessing.image import ImageDataGenerator\n",
    "from keras.models import Sequential\n",
    "from keras.layers import Conv2D, MaxPooling2D\n",
    "from keras.layers import Activation, Dropout, Flatten, Dense\n",
    "from keras import backend as K"
   ]
  },
  {
   "cell_type": "code",
   "execution_count": null,
   "metadata": {
    "colab": {},
    "colab_type": "code",
    "id": "tU6A_0LF4o_L"
   },
   "outputs": [],
   "source": [
    "img_width, img_height = 200, 200\n",
    "\n",
    "train_data_dir = '../data/filtered/train'\n",
    "validation_data_dir = '../data/filtered/test'\n",
    "nb_train_samples = 1596\n",
    "nb_validation_samples = 660\n",
    "epochs = 10\n",
    "batch_size = 10"
   ]
  },
  {
   "cell_type": "code",
   "execution_count": null,
   "metadata": {
    "colab": {},
    "colab_type": "code",
    "id": "6JWVoET25WWQ"
   },
   "outputs": [],
   "source": [
    "if K.image_data_format() == 'channels_first':\n",
    "    input_shape = (3, img_width, img_height)\n",
    "else:\n",
    "    input_shape = (img_width, img_height, 3)"
   ]
  },
  {
   "cell_type": "code",
   "execution_count": null,
   "metadata": {
    "colab": {},
    "colab_type": "code",
    "id": "NOx1sUEe5acY"
   },
   "outputs": [],
   "source": [
    "model = Sequential()\n",
    "model.add(Conv2D(32, (3, 3), input_shape=input_shape))\n",
    "model.add(Activation('relu'))\n",
    "model.add(MaxPooling2D(pool_size=(2, 2)))"
   ]
  },
  {
   "cell_type": "code",
   "execution_count": null,
   "metadata": {
    "colab": {},
    "colab_type": "code",
    "id": "YF7AYo6H5c5K"
   },
   "outputs": [],
   "source": [
    "model.add(Conv2D(32, (3, 3)))\n",
    "model.add(Activation('relu'))\n",
    "model.add(MaxPooling2D(pool_size=(2, 2)))\n",
    "\n",
    "model.add(Conv2D(64, (3, 3)))\n",
    "model.add(Activation('relu'))\n",
    "model.add(MaxPooling2D(pool_size=(2, 2)))"
   ]
  },
  {
   "cell_type": "code",
   "execution_count": null,
   "metadata": {
    "colab": {},
    "colab_type": "code",
    "id": "XjM1jb-O5f2s"
   },
   "outputs": [],
   "source": [
    "model.add(Flatten())\n",
    "model.add(Dense(64))\n",
    "model.add(Activation('relu'))\n",
    "model.add(Dropout(0.5))\n",
    "model.add(Dense(4))\n",
    "model.add(Activation('softmax'))"
   ]
  },
  {
   "cell_type": "code",
   "execution_count": null,
   "metadata": {
    "colab": {},
    "colab_type": "code",
    "id": "yakg2Zc95lPG"
   },
   "outputs": [],
   "source": [
    "model.compile(loss='binary_crossentropy',\n",
    "              optimizer='rmsprop',\n",
    "              metrics=['accuracy'])"
   ]
  },
  {
   "cell_type": "code",
   "execution_count": null,
   "metadata": {
    "colab": {},
    "colab_type": "code",
    "id": "IcsyHPo35qIP"
   },
   "outputs": [],
   "source": [
    "train_datagen = ImageDataGenerator(\n",
    "    rescale=1./255,\n",
    "    shear_range=0.2,\n",
    "    zoom_range=0.2,\n",
    "    horizontal_flip=True)\n",
    "\n",
    "test_datagen = ImageDataGenerator(rescale=1./255)"
   ]
  },
  {
   "cell_type": "code",
   "execution_count": null,
   "metadata": {
    "colab": {
     "base_uri": "https://localhost:8080/",
     "height": 34
    },
    "colab_type": "code",
    "executionInfo": {
     "elapsed": 344,
     "status": "ok",
     "timestamp": 1591384550607,
     "user": {
      "displayName": "Héctor Eduardo Gómez Mora",
      "photoUrl": "",
      "userId": "13684640852500579133"
     },
     "user_tz": 300
    },
    "id": "7giKRwhN5p5Y",
    "outputId": "2857cf5f-89ab-4fd8-a7f8-ac1661bdf084"
   },
   "outputs": [],
   "source": [
    "train_generator = train_datagen.flow_from_directory(\n",
    "    '../data/filtered/train',\n",
    "    target_size=(200, 200),\n",
    "    batch_size=10,\n",
    "    class_mode='categorical')"
   ]
  },
  {
   "cell_type": "code",
   "execution_count": null,
   "metadata": {
    "colab": {
     "base_uri": "https://localhost:8080/",
     "height": 34
    },
    "colab_type": "code",
    "executionInfo": {
     "elapsed": 266,
     "status": "ok",
     "timestamp": 1591384554977,
     "user": {
      "displayName": "Héctor Eduardo Gómez Mora",
      "photoUrl": "",
      "userId": "13684640852500579133"
     },
     "user_tz": 300
    },
    "id": "wk5vEXnj5psn",
    "outputId": "f84e482e-13d5-4556-e35a-35098bddaa7b"
   },
   "outputs": [],
   "source": [
    "validation_generator = test_datagen.flow_from_directory(\n",
    "    '../data/filtered/test',\n",
    "    target_size=(200, 200),\n",
    "    batch_size=10,\n",
    "    class_mode='categorical')"
   ]
  },
  {
   "cell_type": "code",
   "execution_count": null,
   "metadata": {
    "colab": {
     "base_uri": "https://localhost:8080/",
     "height": 382
    },
    "colab_type": "code",
    "executionInfo": {
     "elapsed": 831867,
     "status": "ok",
     "timestamp": 1591385392093,
     "user": {
      "displayName": "Héctor Eduardo Gómez Mora",
      "photoUrl": "",
      "userId": "13684640852500579133"
     },
     "user_tz": 300
    },
    "id": "tcYZhEA95ylc",
    "outputId": "bd689d8a-5146-498a-f6ed-61676375ae16"
   },
   "outputs": [],
   "source": [
    "model.fit_generator(\n",
    "    train_generator,\n",
    "    steps_per_epoch=nb_train_samples // batch_size,\n",
    "    epochs=epochs,\n",
    "    validation_data=validation_generator,\n",
    "    validation_steps=nb_validation_samples // batch_size)"
   ]
  },
  {
   "cell_type": "markdown",
   "metadata": {
    "colab_type": "text",
    "id": "4cnuNLvk53xG"
   },
   "source": [
    "# Prueba con Sars COV 2 "
   ]
  },
  {
   "cell_type": "code",
   "execution_count": null,
   "metadata": {
    "colab": {},
    "colab_type": "code",
    "id": "pQ250Jy05ya3"
   },
   "outputs": [],
   "source": [
    "import numpy as np\n",
    "from keras.preprocessing import image"
   ]
  },
  {
   "cell_type": "code",
   "execution_count": null,
   "metadata": {},
   "outputs": [],
   "source": [
    "to_cgr('../data/raw_data/sarscov2.fasta', '../data/filtered', 'sarscov2')"
   ]
  },
  {
   "cell_type": "code",
   "execution_count": null,
   "metadata": {
    "colab": {},
    "colab_type": "code",
    "id": "x1vFR0sY5yPZ"
   },
   "outputs": [],
   "source": [
    "img = image.load_img('../data/filtered/sarscov2.png', target_size=(img_width, img_height))\n",
    "x = image.img_to_array(img)\n",
    "x = np.expand_dims(x, axis=0)"
   ]
  },
  {
   "cell_type": "code",
   "execution_count": null,
   "metadata": {
    "colab": {
     "base_uri": "https://localhost:8080/",
     "height": 34
    },
    "colab_type": "code",
    "executionInfo": {
     "elapsed": 322,
     "status": "ok",
     "timestamp": 1591385471250,
     "user": {
      "displayName": "Héctor Eduardo Gómez Mora",
      "photoUrl": "",
      "userId": "13684640852500579133"
     },
     "user_tz": 300
    },
    "id": "ysL2LaeT5pbr",
    "outputId": "968bc2dd-cfa3-4e94-a15f-e71074e05b12"
   },
   "outputs": [],
   "source": [
    "images = np.vstack([x])\n",
    "classes = model.predict_classes(images, batch_size=3)\n",
    "print(classes[0])"
   ]
  },
  {
   "cell_type": "code",
   "execution_count": null,
   "metadata": {
    "colab": {},
    "colab_type": "code",
    "id": "eirsv_Pp9zb_"
   },
   "outputs": [],
   "source": []
  }
 ],
 "metadata": {
  "colab": {
   "authorship_tag": "ABX9TyN3l0aJkpGJbrJ4lbgZFJur",
   "collapsed_sections": [
    "p0yJ9gHA5Hhv",
    "81CcbjqX4-HV",
    "4cnuNLvk53xG"
   ],
   "name": "Main.ipynb",
   "provenance": []
  },
  "kernelspec": {
   "display_name": "Python 3",
   "language": "python",
   "name": "python3"
  },
  "language_info": {
   "codemirror_mode": {
    "name": "ipython",
    "version": 3
   },
   "file_extension": ".py",
   "mimetype": "text/x-python",
   "name": "python",
   "nbconvert_exporter": "python",
   "pygments_lexer": "ipython3",
   "version": "3.7.6"
  }
 },
 "nbformat": 4,
 "nbformat_minor": 4
}
